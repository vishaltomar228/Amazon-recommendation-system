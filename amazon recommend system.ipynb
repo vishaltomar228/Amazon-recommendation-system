{
 "cells": [
  {
   "cell_type": "code",
   "execution_count": 1,
   "metadata": {},
   "outputs": [],
   "source": [
    "import pandas as pd\n",
    "import numpy as np\n",
    "\n",
    "from sklearn.metrics import *\n",
    "from sklearn.model_selection import train_test_split\n",
    "import matplotlib as plt\n",
    "import operator"
   ]
  },
  {
   "cell_type": "code",
   "execution_count": 2,
   "metadata": {},
   "outputs": [
    {
     "name": "stdout",
     "output_type": "stream",
     "text": [
      "<class 'pandas.core.frame.DataFrame'>\n",
      "RangeIndex: 568454 entries, 0 to 568453\n",
      "Data columns (total 10 columns):\n",
      "Id                        568454 non-null int64\n",
      "ProductId                 568454 non-null object\n",
      "UserId                    568454 non-null object\n",
      "ProfileName               568438 non-null object\n",
      "HelpfulnessNumerator      568454 non-null int64\n",
      "HelpfulnessDenominator    568454 non-null int64\n",
      "Score                     568454 non-null int64\n",
      "Time                      568454 non-null int64\n",
      "Summary                   568427 non-null object\n",
      "Text                      568454 non-null object\n",
      "dtypes: int64(5), object(5)\n",
      "memory usage: 43.4+ MB\n"
     ]
    }
   ],
   "source": [
    "df = pd.read_csv('Reviews.csv')\n",
    "df.info()"
   ]
  },
  {
   "cell_type": "code",
   "execution_count": null,
   "metadata": {},
   "outputs": [],
   "source": [
    "def data_clean(df, feature, x):\n",
    "    count = df[feature].value_counts()\n",
    "    df = df[df[feature].isin(count[count > x].index)]\n",
    "    return df\n",
    "def arrange_data(df,features,x):\n",
    "    fil = df.ProductId.value_counts()\n",
    "    fil2 = df.UserId.value_counts()\n",
    "    df['nProducts'] = df.ProductId.apply(lambda n: fil[n])\n",
    "    df['nUsers'] = df.UserId.apply(lambda n: fil2[n])\n",
    "    while (df.ProductId.value_counts(ascending=True)[0]) < x or  (df.UserId.value_counts(ascending=True)[0] < x):\n",
    "        df = data_clean(df,features[0],x)\n",
    "        df = data_clean(df,features[1],x)\n",
    "    return df\n",
    "processed_data_frame = arrange_data(df, ['ProductId', 'UserId'], 10)"
   ]
  },
  {
   "cell_type": "code",
   "execution_count": null,
   "metadata": {},
   "outputs": [],
   "source": [
    "processed_data_frame.head()"
   ]
  },
  {
   "cell_type": "code",
   "execution_count": null,
   "metadata": {},
   "outputs": [],
   "source": [
    "processed_data_frame['uid'] = pd.factorize(processed_data_frame['UserId'])[0]\n",
    "processed_data_frame['pid'] = pd.factorize(processed_data_frame['ProductId'])[0]"
   ]
  },
  {
   "cell_type": "code",
   "execution_count": null,
   "metadata": {},
   "outputs": [],
   "source": [
    "processed_data_frame.head()"
   ]
  },
  {
   "cell_type": "code",
   "execution_count": null,
   "metadata": {},
   "outputs": [],
   "source": [
    "processed_data_frame.hist(bins = 50, figsize = (20,15))"
   ]
  },
  {
   "cell_type": "code",
   "execution_count": null,
   "metadata": {},
   "outputs": [],
   "source": [
    "processed_data_frame.info()"
   ]
  },
  {
   "cell_type": "code",
   "execution_count": null,
   "metadata": {},
   "outputs": [],
   "source": [
    "X = processed_data_frame.loc[:,['uid','pid','Time','nUsers','nProducts']]\n",
    "Y = processed_data_frame.Score\n",
    "X_train,X_test,Y_train,Y_test = train_test_split(X,Y,test_size=0.3,random_state=2017)"
   ]
  },
  {
   "cell_type": "code",
   "execution_count": null,
   "metadata": {},
   "outputs": [],
   "source": [
    "from sklearn.tree import DecisionTreeRegressor\n",
    "model = DecisionTreeRegressor()\n",
    "model.fit(X_train,Y_train)\n",
    "Y_test_predict = model.predict(X_test)"
   ]
  },
  {
   "cell_type": "code",
   "execution_count": null,
   "metadata": {
    "scrolled": true
   },
   "outputs": [],
   "source": [
    "temp1 = mean_squared_error(Y_test,Y_test_predict)\n",
    "print('Mean square error on testing data: ',temp1)\n",
    "\n",
    "\n",
    "recommendation_accuracy = Y_test_predict >= 4\n",
    "temp1 = Y_test >= 4\n",
    "\n",
    "no_recommendation_accuracy = Y_test_predict < 3\n",
    "temp2 = Y_test < 3\n",
    "\n",
    "print('Accuracy score of recommendation: ',accuracy_score(temp1,recommendation_accuracy))\n",
    "print('Accuracy score of not recommendation: ',accuracy_score(temp2,no_recommendation_accuracy))\n"
   ]
  },
  {
   "cell_type": "code",
   "execution_count": null,
   "metadata": {},
   "outputs": [],
   "source": [
    "prid = processed_data_frame.ProductId\n",
    "score = processed_data_frame.Score\n",
    "def recomned_product(data_framee,prid_array,score_array,score_predicted):\n",
    "    pid_score = dict()\n",
    "    for i in range(len(prid_array)):\n",
    "        if score_array[i] >= score_predicted:\n",
    "            if prid_array[i] in pid_score.keys() and score_array[i] >= score_predicted:\n",
    "                pid_score[prid_array[i]] = pid_score[prid_array[i]]+1\n",
    "            else:\n",
    "                pid_score[prid_array[i]] = 0\n",
    "    pid_score_sorted = {}\n",
    "    pid_score_sorted = dict(sorted(pid_score.items(), key=operator.itemgetter(1),reverse = True))\n",
    "    type(pid_score_sorted)\n",
    "    print(\"recommended product for given data of user\")\n",
    "    c = 0\n",
    "    product = []\n",
    "    for i in pid_score_sorted:\n",
    "        product.append(i)\n",
    "        c = c+1\n",
    "        if c == 10:\n",
    "            return product;\n",
    "    \n",
    "data = [[124,20,0.899981,0.099515,0.999667]]\n",
    "data_framee = pd.DataFrame(data, columns = ['uid','pid','time','nuser','nproduct'])\n",
    "score_predicted = model.predict(data_framee)\n",
    "prid_array = pd.Series(prid).array\n",
    "score_array = pd.Series(score).array\n",
    "\n",
    "product = recomned_product(data_framee,prid_array,score_array,score_predicted)\n",
    "print(product)"
   ]
  },
  {
   "cell_type": "code",
   "execution_count": null,
   "metadata": {},
   "outputs": [],
   "source": []
  }
 ],
 "metadata": {
  "kernelspec": {
   "display_name": "Python 3",
   "language": "python",
   "name": "python3"
  },
  "language_info": {
   "codemirror_mode": {
    "name": "ipython",
    "version": 3
   },
   "file_extension": ".py",
   "mimetype": "text/x-python",
   "name": "python",
   "nbconvert_exporter": "python",
   "pygments_lexer": "ipython3",
   "version": "3.7.3"
  }
 },
 "nbformat": 4,
 "nbformat_minor": 2
}

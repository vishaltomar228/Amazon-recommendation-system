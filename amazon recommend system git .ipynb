{
 "cells": [
  {
   "cell_type": "code",
   "execution_count": 1,
   "metadata": {},
   "outputs": [],
   "source": [
    "import pandas as pd\n",
    "import numpy as np\n",
    "\n",
    "from sklearn.metrics import *\n",
    "from sklearn.model_selection import train_test_split\n",
    "import matplotlib as plt\n",
    "import operator"
   ]
  },
  {
   "cell_type": "code",
   "execution_count": 2,
   "metadata": {},
   "outputs": [
    {
     "name": "stdout",
     "output_type": "stream",
     "text": [
      "<class 'pandas.core.frame.DataFrame'>\n",
      "RangeIndex: 568454 entries, 0 to 568453\n",
      "Data columns (total 10 columns):\n",
      "Id                        568454 non-null int64\n",
      "ProductId                 568454 non-null object\n",
      "UserId                    568454 non-null object\n",
      "ProfileName               568438 non-null object\n",
      "HelpfulnessNumerator      568454 non-null int64\n",
      "HelpfulnessDenominator    568454 non-null int64\n",
      "Score                     568454 non-null int64\n",
      "Time                      568454 non-null int64\n",
      "Summary                   568427 non-null object\n",
      "Text                      568454 non-null object\n",
      "dtypes: int64(5), object(5)\n",
      "memory usage: 43.4+ MB\n"
     ]
    }
   ],
   "source": [
    "df = pd.read_csv('Reviews.csv')\n",
    "df.info()"
   ]
  },
  {
   "cell_type": "code",
   "execution_count": 3,
   "metadata": {},
   "outputs": [],
   "source": [
    "def data_clean(df, feature, x):\n",
    "    count = df[feature].value_counts()\n",
    "    df = df[df[feature].isin(count[count > x].index)]\n",
    "    return df\n",
    "def arrange_data(df,features,x):\n",
    "    fil = df.ProductId.value_counts()\n",
    "    fil2 = df.UserId.value_counts()\n",
    "    df['nProducts'] = df.ProductId.apply(lambda n: fil[n])\n",
    "    df['nUsers'] = df.UserId.apply(lambda n: fil2[n])\n",
    "    while (df.ProductId.value_counts(ascending=True)[0]) < x or  (df.UserId.value_counts(ascending=True)[0] < x):\n",
    "        df = data_clean(df,features[0],x)\n",
    "        df = data_clean(df,features[1],x)\n",
    "    return df\n",
    "processed_data_frame = arrange_data(df, ['ProductId', 'UserId'], 10)"
   ]
  },
  {
   "cell_type": "code",
   "execution_count": 4,
   "metadata": {},
   "outputs": [
    {
     "data": {
      "text/html": [
       "<div>\n",
       "<style scoped>\n",
       "    .dataframe tbody tr th:only-of-type {\n",
       "        vertical-align: middle;\n",
       "    }\n",
       "\n",
       "    .dataframe tbody tr th {\n",
       "        vertical-align: top;\n",
       "    }\n",
       "\n",
       "    .dataframe thead th {\n",
       "        text-align: right;\n",
       "    }\n",
       "</style>\n",
       "<table border=\"1\" class=\"dataframe\">\n",
       "  <thead>\n",
       "    <tr style=\"text-align: right;\">\n",
       "      <th></th>\n",
       "      <th>Id</th>\n",
       "      <th>ProductId</th>\n",
       "      <th>UserId</th>\n",
       "      <th>ProfileName</th>\n",
       "      <th>HelpfulnessNumerator</th>\n",
       "      <th>HelpfulnessDenominator</th>\n",
       "      <th>Score</th>\n",
       "      <th>Time</th>\n",
       "      <th>Summary</th>\n",
       "      <th>Text</th>\n",
       "      <th>nProducts</th>\n",
       "      <th>nUsers</th>\n",
       "    </tr>\n",
       "  </thead>\n",
       "  <tbody>\n",
       "    <tr>\n",
       "      <th>422</th>\n",
       "      <td>423</td>\n",
       "      <td>B000G6RYNE</td>\n",
       "      <td>A2NO1TXXS9T0EE</td>\n",
       "      <td>BruteNStones</td>\n",
       "      <td>0</td>\n",
       "      <td>0</td>\n",
       "      <td>4</td>\n",
       "      <td>1335398400</td>\n",
       "      <td>Hard</td>\n",
       "      <td>Great if you are cutting back on fat, they do ...</td>\n",
       "      <td>217</td>\n",
       "      <td>44</td>\n",
       "    </tr>\n",
       "    <tr>\n",
       "      <th>423</th>\n",
       "      <td>424</td>\n",
       "      <td>B000G6RYNE</td>\n",
       "      <td>A1IRN1M05TPOVT</td>\n",
       "      <td>Sharon M. Helfand \"Scrapper\"</td>\n",
       "      <td>0</td>\n",
       "      <td>0</td>\n",
       "      <td>5</td>\n",
       "      <td>1334620800</td>\n",
       "      <td>Kettle potato chips:  Fully loaded baked potato</td>\n",
       "      <td>I have never met a Kettle brand chip I did not...</td>\n",
       "      <td>217</td>\n",
       "      <td>49</td>\n",
       "    </tr>\n",
       "    <tr>\n",
       "      <th>424</th>\n",
       "      <td>425</td>\n",
       "      <td>B000G6RYNE</td>\n",
       "      <td>ARONI7W0W677H</td>\n",
       "      <td>Peter N</td>\n",
       "      <td>0</td>\n",
       "      <td>0</td>\n",
       "      <td>5</td>\n",
       "      <td>1334275200</td>\n",
       "      <td>Fresh, Lightly-Spiced, Crunchy Kettle Chips. G...</td>\n",
       "      <td>After buying bags one at a time (at a hefty ma...</td>\n",
       "      <td>217</td>\n",
       "      <td>16</td>\n",
       "    </tr>\n",
       "    <tr>\n",
       "      <th>425</th>\n",
       "      <td>426</td>\n",
       "      <td>B000G6RYNE</td>\n",
       "      <td>A1Y3XPZK9ZADFW</td>\n",
       "      <td>albinocrow</td>\n",
       "      <td>0</td>\n",
       "      <td>0</td>\n",
       "      <td>4</td>\n",
       "      <td>1334016000</td>\n",
       "      <td>glad to find them in 1 oz size</td>\n",
       "      <td>I buy mostly for vending, so the size of the b...</td>\n",
       "      <td>217</td>\n",
       "      <td>32</td>\n",
       "    </tr>\n",
       "    <tr>\n",
       "      <th>426</th>\n",
       "      <td>427</td>\n",
       "      <td>B000G6RYNE</td>\n",
       "      <td>A1Y3XPZK9ZADFW</td>\n",
       "      <td>albinocrow</td>\n",
       "      <td>0</td>\n",
       "      <td>0</td>\n",
       "      <td>4</td>\n",
       "      <td>1334016000</td>\n",
       "      <td>pretty good, could be better</td>\n",
       "      <td>Glad to find these in a one ounce size but the...</td>\n",
       "      <td>217</td>\n",
       "      <td>32</td>\n",
       "    </tr>\n",
       "  </tbody>\n",
       "</table>\n",
       "</div>"
      ],
      "text/plain": [
       "      Id   ProductId          UserId                   ProfileName  \\\n",
       "422  423  B000G6RYNE  A2NO1TXXS9T0EE                  BruteNStones   \n",
       "423  424  B000G6RYNE  A1IRN1M05TPOVT  Sharon M. Helfand \"Scrapper\"   \n",
       "424  425  B000G6RYNE   ARONI7W0W677H                       Peter N   \n",
       "425  426  B000G6RYNE  A1Y3XPZK9ZADFW                    albinocrow   \n",
       "426  427  B000G6RYNE  A1Y3XPZK9ZADFW                    albinocrow   \n",
       "\n",
       "     HelpfulnessNumerator  HelpfulnessDenominator  Score        Time  \\\n",
       "422                     0                       0      4  1335398400   \n",
       "423                     0                       0      5  1334620800   \n",
       "424                     0                       0      5  1334275200   \n",
       "425                     0                       0      4  1334016000   \n",
       "426                     0                       0      4  1334016000   \n",
       "\n",
       "                                               Summary  \\\n",
       "422                                               Hard   \n",
       "423    Kettle potato chips:  Fully loaded baked potato   \n",
       "424  Fresh, Lightly-Spiced, Crunchy Kettle Chips. G...   \n",
       "425                     glad to find them in 1 oz size   \n",
       "426                       pretty good, could be better   \n",
       "\n",
       "                                                  Text  nProducts  nUsers  \n",
       "422  Great if you are cutting back on fat, they do ...        217      44  \n",
       "423  I have never met a Kettle brand chip I did not...        217      49  \n",
       "424  After buying bags one at a time (at a hefty ma...        217      16  \n",
       "425  I buy mostly for vending, so the size of the b...        217      32  \n",
       "426  Glad to find these in a one ounce size but the...        217      32  "
      ]
     },
     "execution_count": 4,
     "metadata": {},
     "output_type": "execute_result"
    }
   ],
   "source": [
    "processed_data_frame.head()"
   ]
  },
  {
   "cell_type": "code",
   "execution_count": 5,
   "metadata": {},
   "outputs": [],
   "source": [
    "processed_data_frame['uid'] = pd.factorize(processed_data_frame['UserId'])[0]\n",
    "processed_data_frame['pid'] = pd.factorize(processed_data_frame['ProductId'])[0]"
   ]
  },
  {
   "cell_type": "code",
   "execution_count": 6,
   "metadata": {},
   "outputs": [
    {
     "data": {
      "text/html": [
       "<div>\n",
       "<style scoped>\n",
       "    .dataframe tbody tr th:only-of-type {\n",
       "        vertical-align: middle;\n",
       "    }\n",
       "\n",
       "    .dataframe tbody tr th {\n",
       "        vertical-align: top;\n",
       "    }\n",
       "\n",
       "    .dataframe thead th {\n",
       "        text-align: right;\n",
       "    }\n",
       "</style>\n",
       "<table border=\"1\" class=\"dataframe\">\n",
       "  <thead>\n",
       "    <tr style=\"text-align: right;\">\n",
       "      <th></th>\n",
       "      <th>Id</th>\n",
       "      <th>ProductId</th>\n",
       "      <th>UserId</th>\n",
       "      <th>ProfileName</th>\n",
       "      <th>HelpfulnessNumerator</th>\n",
       "      <th>HelpfulnessDenominator</th>\n",
       "      <th>Score</th>\n",
       "      <th>Time</th>\n",
       "      <th>Summary</th>\n",
       "      <th>Text</th>\n",
       "      <th>nProducts</th>\n",
       "      <th>nUsers</th>\n",
       "      <th>uid</th>\n",
       "      <th>pid</th>\n",
       "    </tr>\n",
       "  </thead>\n",
       "  <tbody>\n",
       "    <tr>\n",
       "      <th>422</th>\n",
       "      <td>423</td>\n",
       "      <td>B000G6RYNE</td>\n",
       "      <td>A2NO1TXXS9T0EE</td>\n",
       "      <td>BruteNStones</td>\n",
       "      <td>0</td>\n",
       "      <td>0</td>\n",
       "      <td>4</td>\n",
       "      <td>1335398400</td>\n",
       "      <td>Hard</td>\n",
       "      <td>Great if you are cutting back on fat, they do ...</td>\n",
       "      <td>217</td>\n",
       "      <td>44</td>\n",
       "      <td>0</td>\n",
       "      <td>0</td>\n",
       "    </tr>\n",
       "    <tr>\n",
       "      <th>423</th>\n",
       "      <td>424</td>\n",
       "      <td>B000G6RYNE</td>\n",
       "      <td>A1IRN1M05TPOVT</td>\n",
       "      <td>Sharon M. Helfand \"Scrapper\"</td>\n",
       "      <td>0</td>\n",
       "      <td>0</td>\n",
       "      <td>5</td>\n",
       "      <td>1334620800</td>\n",
       "      <td>Kettle potato chips:  Fully loaded baked potato</td>\n",
       "      <td>I have never met a Kettle brand chip I did not...</td>\n",
       "      <td>217</td>\n",
       "      <td>49</td>\n",
       "      <td>1</td>\n",
       "      <td>0</td>\n",
       "    </tr>\n",
       "    <tr>\n",
       "      <th>424</th>\n",
       "      <td>425</td>\n",
       "      <td>B000G6RYNE</td>\n",
       "      <td>ARONI7W0W677H</td>\n",
       "      <td>Peter N</td>\n",
       "      <td>0</td>\n",
       "      <td>0</td>\n",
       "      <td>5</td>\n",
       "      <td>1334275200</td>\n",
       "      <td>Fresh, Lightly-Spiced, Crunchy Kettle Chips. G...</td>\n",
       "      <td>After buying bags one at a time (at a hefty ma...</td>\n",
       "      <td>217</td>\n",
       "      <td>16</td>\n",
       "      <td>2</td>\n",
       "      <td>0</td>\n",
       "    </tr>\n",
       "    <tr>\n",
       "      <th>425</th>\n",
       "      <td>426</td>\n",
       "      <td>B000G6RYNE</td>\n",
       "      <td>A1Y3XPZK9ZADFW</td>\n",
       "      <td>albinocrow</td>\n",
       "      <td>0</td>\n",
       "      <td>0</td>\n",
       "      <td>4</td>\n",
       "      <td>1334016000</td>\n",
       "      <td>glad to find them in 1 oz size</td>\n",
       "      <td>I buy mostly for vending, so the size of the b...</td>\n",
       "      <td>217</td>\n",
       "      <td>32</td>\n",
       "      <td>3</td>\n",
       "      <td>0</td>\n",
       "    </tr>\n",
       "    <tr>\n",
       "      <th>426</th>\n",
       "      <td>427</td>\n",
       "      <td>B000G6RYNE</td>\n",
       "      <td>A1Y3XPZK9ZADFW</td>\n",
       "      <td>albinocrow</td>\n",
       "      <td>0</td>\n",
       "      <td>0</td>\n",
       "      <td>4</td>\n",
       "      <td>1334016000</td>\n",
       "      <td>pretty good, could be better</td>\n",
       "      <td>Glad to find these in a one ounce size but the...</td>\n",
       "      <td>217</td>\n",
       "      <td>32</td>\n",
       "      <td>3</td>\n",
       "      <td>0</td>\n",
       "    </tr>\n",
       "  </tbody>\n",
       "</table>\n",
       "</div>"
      ],
      "text/plain": [
       "      Id   ProductId          UserId                   ProfileName  \\\n",
       "422  423  B000G6RYNE  A2NO1TXXS9T0EE                  BruteNStones   \n",
       "423  424  B000G6RYNE  A1IRN1M05TPOVT  Sharon M. Helfand \"Scrapper\"   \n",
       "424  425  B000G6RYNE   ARONI7W0W677H                       Peter N   \n",
       "425  426  B000G6RYNE  A1Y3XPZK9ZADFW                    albinocrow   \n",
       "426  427  B000G6RYNE  A1Y3XPZK9ZADFW                    albinocrow   \n",
       "\n",
       "     HelpfulnessNumerator  HelpfulnessDenominator  Score        Time  \\\n",
       "422                     0                       0      4  1335398400   \n",
       "423                     0                       0      5  1334620800   \n",
       "424                     0                       0      5  1334275200   \n",
       "425                     0                       0      4  1334016000   \n",
       "426                     0                       0      4  1334016000   \n",
       "\n",
       "                                               Summary  \\\n",
       "422                                               Hard   \n",
       "423    Kettle potato chips:  Fully loaded baked potato   \n",
       "424  Fresh, Lightly-Spiced, Crunchy Kettle Chips. G...   \n",
       "425                     glad to find them in 1 oz size   \n",
       "426                       pretty good, could be better   \n",
       "\n",
       "                                                  Text  nProducts  nUsers  \\\n",
       "422  Great if you are cutting back on fat, they do ...        217      44   \n",
       "423  I have never met a Kettle brand chip I did not...        217      49   \n",
       "424  After buying bags one at a time (at a hefty ma...        217      16   \n",
       "425  I buy mostly for vending, so the size of the b...        217      32   \n",
       "426  Glad to find these in a one ounce size but the...        217      32   \n",
       "\n",
       "     uid  pid  \n",
       "422    0    0  \n",
       "423    1    0  \n",
       "424    2    0  \n",
       "425    3    0  \n",
       "426    3    0  "
      ]
     },
     "execution_count": 6,
     "metadata": {},
     "output_type": "execute_result"
    }
   ],
   "source": [
    "processed_data_frame.head()"
   ]
  },
  {
   "cell_type": "code",
   "execution_count": 13,
   "metadata": {},
   "outputs": [
    {
     "data": {
      "text/plain": [
       "array([[<matplotlib.axes._subplots.AxesSubplot object at 0x000002A182EE3320>,\n",
       "        <matplotlib.axes._subplots.AxesSubplot object at 0x000002A1832DFBA8>,\n",
       "        <matplotlib.axes._subplots.AxesSubplot object at 0x000002A183310E80>],\n",
       "       [<matplotlib.axes._subplots.AxesSubplot object at 0x000002A18334B470>,\n",
       "        <matplotlib.axes._subplots.AxesSubplot object at 0x000002A18337AA20>,\n",
       "        <matplotlib.axes._subplots.AxesSubplot object at 0x000002A1833AAFD0>],\n",
       "       [<matplotlib.axes._subplots.AxesSubplot object at 0x000002A1833E35C0>,\n",
       "        <matplotlib.axes._subplots.AxesSubplot object at 0x000002A183417BA8>,\n",
       "        <matplotlib.axes._subplots.AxesSubplot object at 0x000002A183417BE0>]],\n",
       "      dtype=object)"
      ]
     },
     "execution_count": 13,
     "metadata": {},
     "output_type": "execute_result"
    },
    {
     "data": {
      "image/png": "[encoded data removed]",
      "text/plain": [
       "<Figure size 1440x1080 with 9 Axes>"
      ]
     },
     "metadata": {
      "needs_background": "light"
     },
     "output_type": "display_data"
    }
   ],
   "source": [
    "processed_data_frame.hist(bins = 50, figsize = (20,15))"
   ]
  },
  {
   "cell_type": "code",
   "execution_count": 14,
   "metadata": {},
   "outputs": [
    {
     "name": "stdout",
     "output_type": "stream",
     "text": [
      "<class 'pandas.core.frame.DataFrame'>\n",
      "Int64Index: 64340 entries, 422 to 568062\n",
      "Data columns (total 14 columns):\n",
      "Id                        64340 non-null int64\n",
      "ProductId                 64340 non-null object\n",
      "UserId                    64340 non-null object\n",
      "ProfileName               64340 non-null object\n",
      "HelpfulnessNumerator      64340 non-null int64\n",
      "HelpfulnessDenominator    64340 non-null int64\n",
      "Score                     64340 non-null int64\n",
      "Time                      64340 non-null int64\n",
      "Summary                   64315 non-null object\n",
      "Text                      64340 non-null object\n",
      "nProducts                 64340 non-null int64\n",
      "nUsers                    64340 non-null int64\n",
      "uid                       64340 non-null int64\n",
      "pid                       64340 non-null int64\n",
      "dtypes: int64(9), object(5)\n",
      "memory usage: 7.4+ MB\n"
     ]
    }
   ],
   "source": [
    "processed_data_frame.info()"
   ]
  },
  {
   "cell_type": "code",
   "execution_count": 15,
   "metadata": {},
   "outputs": [],
   "source": [
    "X = processed_data_frame.loc[:,['uid','pid','Time','nUsers','nProducts']]\n",
    "Y = processed_data_frame.Score\n",
    "X_train,X_test,Y_train,Y_test = train_test_split(X,Y,test_size=0.3,random_state=2017)"
   ]
  },
  {
   "cell_type": "code",
   "execution_count": 16,
   "metadata": {},
   "outputs": [],
   "source": [
    "from sklearn.tree import DecisionTreeRegressor\n",
    "model = DecisionTreeRegressor()\n",
    "model.fit(X_train,Y_train)\n",
    "Y_test_predict = model.predict(X_test)"
   ]
  },
  {
   "cell_type": "code",
   "execution_count": 17,
   "metadata": {
    "scrolled": true
   },
   "outputs": [
    {
     "name": "stdout",
     "output_type": "stream",
     "text": [
      "Mean square error on testing data:  0.5377803394006379\n",
      "Accuracy score of recommendation:  0.9032742720961559\n",
      "Accuracy score of not recommendation:  0.9505232618381515\n"
     ]
    }
   ],
   "source": [
    "temp1 = mean_squared_error(Y_test,Y_test_predict)\n",
    "print('Mean square error on testing data: ',temp1)\n",
    "\n",
    "\n",
    "recommendation_accuracy = Y_test_predict >= 4\n",
    "temp1 = Y_test >= 4\n",
    "\n",
    "no_recommendation_accuracy = Y_test_predict < 3\n",
    "temp2 = Y_test < 3\n",
    "\n",
    "print('Accuracy score of recommendation: ',accuracy_score(temp1,recommendation_accuracy))\n",
    "print('Accuracy score of not recommendation: ',accuracy_score(temp2,no_recommendation_accuracy))\n"
   ]
  },
  {
   "cell_type": "code",
   "execution_count": 18,
   "metadata": {},
   "outputs": [
    {
     "name": "stdout",
     "output_type": "stream",
     "text": [
      "recommended product for given data of user\n",
      "['B002IEZJMA', 'B006MONQMC', 'B002IEVJRY', 'B0041NYV8E', 'B005VOONKI', 'B005VOOM4A', 'B005VOOM2W', 'B005VOONLW', 'B005VOOKS8', 'B005VOONI0']\n"
     ]
    }
   ],
   "source": [
    "prid = processed_data_frame.ProductId\n",
    "score = processed_data_frame.Score\n",
    "def recomned_product(data_framee,prid_array,score_array,score_predicted):\n",
    "    pid_score = dict()\n",
    "    for i in range(len(prid_array)):\n",
    "        if score_array[i] >= score_predicted:\n",
    "            if prid_array[i] in pid_score.keys() and score_array[i] >= score_predicted:\n",
    "                pid_score[prid_array[i]] = pid_score[prid_array[i]]+1\n",
    "            else:\n",
    "                pid_score[prid_array[i]] = 0\n",
    "    pid_score_sorted = {}\n",
    "    pid_score_sorted = dict(sorted(pid_score.items(), key=operator.itemgetter(1),reverse = True))\n",
    "    type(pid_score_sorted)\n",
    "    print(\"recommended product for given data of user\")\n",
    "    c = 0\n",
    "    product = []\n",
    "    for i in pid_score_sorted:\n",
    "        product.append(i)\n",
    "        c = c+1\n",
    "        if c == 10:\n",
    "            return product;\n",
    "    \n",
    "data = [[124,20,0.899981,0.099515,0.999667]]\n",
    "data_framee = pd.DataFrame(data, columns = ['uid','pid','time','nuser','nproduct'])\n",
    "score_predicted = model.predict(data_framee)\n",
    "prid_array = pd.Series(prid).array\n",
    "score_array = pd.Series(score).array\n",
    "\n",
    "product = recomned_product(data_framee,prid_array,score_array,score_predicted)\n",
    "print(product)"
   ]
  },
  {
   "cell_type": "code",
   "execution_count": null,
   "metadata": {},
   "outputs": [],
   "source": []
  }
 ],
 "metadata": {
  "kernelspec": {
   "display_name": "Python 3",
   "language": "python",
   "name": "python3"
  },
  "language_info": {
   "codemirror_mode": {
    "name": "ipython",
    "version": 3
   },
   "file_extension": ".py",
   "mimetype": "text/x-python",
   "name": "python",
   "nbconvert_exporter": "python",
   "pygments_lexer": "ipython3",
   "version": "3.7.3"
  }
 },
 "nbformat": 4,
 "nbformat_minor": 2
}
